{
 "cells": [
  {
   "cell_type": "markdown",
   "metadata": {},
   "source": [
    "# Poisson Sampling\n",
    "\n",
    "The Poisson distribution has some interesting properties. Let's explore them a bit by sampling from this distribution. We'll draw sets of 50 samples from Poissons with a range of different lambda values."
   ]
  },
  {
   "cell_type": "code",
   "execution_count": null,
   "metadata": {
    "collapsed": true
   },
   "outputs": [],
   "source": [
    "# We'll use this clear() statement to make sure our workspace is clean each time\n",
    "clear()\n",
    "\n",
    "lambdas = v(0.1, 0.5, 1.0, 2.0, 5.0, 10.0)"
   ]
  },
  {
   "cell_type": "markdown",
   "metadata": {},
   "source": [
    "Now we'll initialize a vector to hold the results of sampling from the Poisson distributions with varied rates."
   ]
  },
  {
   "cell_type": "code",
   "execution_count": null,
   "metadata": {
    "collapsed": true
   },
   "outputs": [],
   "source": [
    "for (i in 1:lambdas.size()){\n",
    "    values[i] = 0\n",
    "}"
   ]
  },
  {
   "cell_type": "markdown",
   "metadata": {},
   "source": [
    "Next, we'll draw 50 samples from each Poisson and store the results in our values vector."
   ]
  },
  {
   "cell_type": "code",
   "execution_count": null,
   "metadata": {},
   "outputs": [],
   "source": [
    "for (i in 1:lambdas.size()){\n",
    "    values[i] = rpoisson(50,lambdas[i])\n",
    "}"
   ]
  },
  {
   "cell_type": "code",
   "execution_count": null,
   "metadata": {},
   "outputs": [],
   "source": [
    "values"
   ]
  },
  {
   "cell_type": "markdown",
   "metadata": {},
   "source": [
    "What do we see when we look at `values`? What sort of data structure is this? What is the first element in this vector?"
   ]
  },
  {
   "cell_type": "code",
   "execution_count": null,
   "metadata": {},
   "outputs": [],
   "source": [
    "values[1]"
   ]
  },
  {
   "cell_type": "markdown",
   "metadata": {},
   "source": [
    "The first element in `values` is itself a vector! So, `values` is a vector of vectors. This is a common way to store things like matrices or tables of values. Note that we can still access individual elements, using double index notation."
   ]
  },
  {
   "cell_type": "code",
   "execution_count": null,
   "metadata": {},
   "outputs": [],
   "source": [
    "values[1][1]"
   ]
  },
  {
   "cell_type": "markdown",
   "metadata": {},
   "source": [
    "Ok, now that we have our results and know how to access them, let's calculate some stuff. First, let's estimate the means of each distribution based on each sample. We'll begin by initializing a `means` vector to store these estimates, then calculate and store the mean for each sample. Note that RevBayes has a built-in function, `mean()`, to calculate the mean of values in a vector."
   ]
  },
  {
   "cell_type": "code",
   "execution_count": null,
   "metadata": {},
   "outputs": [],
   "source": [
    "for (i in 1:values.size()){\n",
    "    means[i] = 0\n",
    "}\n",
    "\n",
    "for (i in 1:values.size()){\n",
    "    means[i] = mean(values[i])\n",
    "}\n",
    "\n",
    "means"
   ]
  },
  {
   "cell_type": "markdown",
   "metadata": {},
   "source": [
    "Do these estimated means look similar to any values that we've already looked at?\n",
    "\n",
    "Next, we're going to take a look at the estimated variances of our distributions. The variance of a distribution is a measure of its \"spread\". Formally, variance is defined as:\n",
    "\n",
    "<center>${\\rm Var}(X)={\\rm E}[(X-\\mu)^2]$</center>\n",
    "\n",
    "In words, the variance is the expected (i.e., mean) squared deviation from the mean ($\\mu$) of the distribution. Again, conveniently, RevBayes has a built-in function, `var()`, to calculate variances for us."
   ]
  },
  {
   "cell_type": "code",
   "execution_count": null,
   "metadata": {},
   "outputs": [],
   "source": [
    "for (i in 1:values.size()){\n",
    "    variances[i] = 0\n",
    "}\n",
    "\n",
    "for (i in 1:values.size()){\n",
    "    variances[i] = var(values[i])\n",
    "}\n",
    "\n",
    "variances"
   ]
  },
  {
   "cell_type": "markdown",
   "metadata": {},
   "source": [
    "What do these variances look like?\n",
    "\n",
    "To gain some intuition for these properties, and perform a gut check for the values you've sampled, check out this site and play around with the Poisson:\n",
    "\n",
    "https://seeing-theory.brown.edu/probability-distributions/index.html#section2"
   ]
  }
 ],
 "metadata": {
  "kernelspec": {
   "display_name": "RevBayes",
   "language": "bash",
   "name": "revbayes_kernel"
  },
  "language_info": {
   "codemirror_mode": {
    "name": "r"
   },
   "file_extension": ".Rev",
   "help_links": [
    {
     "text": "RevBayes",
     "url": "https://revbayes.org"
    },
    {
     "text": "RevBayes Kernel",
     "url": "https://github.com/sdwfrost/revbayes_kernel"
    },
    {
     "text": "MetaKernel Magics",
     "url": "https://github.com/calysto/metakernel/blob/master/metakernel/magics/README.md"
    }
   ],
   "mimetype": "text/x-rsrc",
   "name": "RevBayes",
   "pygments_lexer": "R"
  }
 },
 "nbformat": 4,
 "nbformat_minor": 2
}
